{
 "cells": [
  {
   "cell_type": "code",
   "execution_count": null,
   "metadata": {},
   "outputs": [
    {
     "name": "stdout",
     "output_type": "stream",
     "text": [
      "Welcome\n"
     ]
    }
   ],
   "source": [
    "data_base : list[tuple[str, str]] = [(\"awais\" , \"321\"),\n",
    "                                    (\"sir Zia\", \"325\"),\n",
    "                                    (\"Qasim\", \"258\")\n",
    "                                    ]\n",
    "input_user : str = input(\"Enter your username:\").lower()\n",
    "input_password : str = input(\"Enter your Password\").lower()\n",
    "\n",
    "# user , password = (\"awais\", \"321\")\n",
    "# user = name[0]\n",
    "# password = name[1]\n",
    "\n",
    "for row in data_base:\n",
    "    user, password = row #(\"awais\", \"321\")\n",
    "    if input_user == user and input_password == password:\n",
    "        print(\"Welcome\")\n",
    "        break\n",
    "else:\n",
    "    print(\"Invalid Username or Password\")"
   ]
  }
 ],
 "metadata": {
  "kernelspec": {
   "display_name": "pyAwais12",
   "language": "python",
   "name": "python3"
  },
  "language_info": {
   "codemirror_mode": {
    "name": "ipython",
    "version": 3
   },
   "file_extension": ".py",
   "mimetype": "text/x-python",
   "name": "python",
   "nbconvert_exporter": "python",
   "pygments_lexer": "ipython3",
   "version": "3.12.0"
  }
 },
 "nbformat": 4,
 "nbformat_minor": 2
}

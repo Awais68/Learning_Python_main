{
 "cells": [
  {
   "cell_type": "markdown",
   "metadata": {},
   "source": [
    "Grading Rule"
   ]
  },
  {
   "cell_type": "code",
   "execution_count": 2,
   "metadata": {},
   "outputs": [
    {
     "name": "stdout",
     "output_type": "stream",
     "text": [
      "7.5\n"
     ]
    }
   ],
   "source": [
    "percentage : float = 88.0\n",
    "\n",
    "from typing import Union\n",
    "\n",
    "grade : Union[int, float] = 7.5\n",
    "print(grade)\n"
   ]
  },
  {
   "cell_type": "code",
   "execution_count": 4,
   "metadata": {},
   "outputs": [
    {
     "name": "stdout",
     "output_type": "stream",
     "text": [
      "Dear Student Your percentage is (per)  now your calculated grade is : \t A+\n"
     ]
    }
   ],
   "source": [
    "per : Union[int, float] = 88\n",
    "grade : Union[str, None] = None\n",
    "\n",
    "if per >= 80:\n",
    "    grade = \"A+\"\n",
    "elif per >= 70:\n",
    "    grade = \"A\"\n",
    "elif per >= 60:\n",
    "    grade = \"B\"\n",
    "elif per >= 50:\n",
    "    grade = \"C\"\n",
    "elif per >= 40:\n",
    "    grade = \"D\"\n",
    "else:\n",
    "    grade = \"Fail\"\n",
    "\n",
    "print (f\"Dear Student Your percentage is (per)  now your calculated grade is : \\t {grade}\")\n"
   ]
  },
  {
   "cell_type": "code",
   "execution_count": 3,
   "metadata": {},
   "outputs": [
    {
     "name": "stdout",
     "output_type": "stream",
     "text": [
      "Dear Student Your percentage is 90  now your calculated grade is : \t A+\n"
     ]
    }
   ],
   "source": [
    "from typing import Union\n",
    "per : Union[int, float] = int(input(\"Enter your percentage : \\t\"))\n",
    "grade : Union[str, None] = None\n",
    "\n",
    "if per >= 80:\n",
    "    grade = \"A+\"\n",
    "elif per >= 70:\n",
    "    grade = \"A\"\n",
    "elif per >= 60:\n",
    "    grade = \"B\"\n",
    "elif per >= 50:\n",
    "    grade = \"C\"\n",
    "elif per >= 40:\n",
    "    grade = \"D\"\n",
    "else:\n",
    "    grade = \"Fail\"\n",
    "\n",
    "print (f\"Dear Student Your percentage is {per}  now your calculated grade is : \\t {grade}\")\n"
   ]
  },
  {
   "cell_type": "markdown",
   "metadata": {},
   "source": [
    "logical Error"
   ]
  },
  {
   "cell_type": "code",
   "execution_count": 4,
   "metadata": {},
   "outputs": [
    {
     "name": "stdout",
     "output_type": "stream",
     "text": [
      "Dear Student Your percentage is (per)  now your calculated grade is : \t Fail\n"
     ]
    }
   ],
   "source": [
    "per : Union[int, float] = int(input(\"Enter your percentage : \\t\"))\n",
    "grade : Union[str, None] = None\n",
    "\n",
    "if per >= 0:\n",
    "    grade = \"Fail\"\n",
    "elif per >= 33:\n",
    "    grade = \"E\"\n",
    "elif per >= 40:\n",
    "    grade = \"D\"\n",
    "elif per >= 50:\n",
    "    grade = \"C\"\n",
    "elif per >= 60:\n",
    "    grade = \"B\"\n",
    "elif per >= 70:\n",
    "    grade = \"A\"\n",
    "else:\n",
    "    grade = \"A+\"\n",
    "\n",
    "print (f\"Dear Student Your percentage is (per)  now your calculated grade is : \\t {grade}\")"
   ]
  },
  {
   "cell_type": "code",
   "execution_count": 7,
   "metadata": {},
   "outputs": [
    {
     "name": "stdout",
     "output_type": "stream",
     "text": [
      "Dear Student Your percentage is (per)  now your calculated grade is : \t Fail\n"
     ]
    }
   ],
   "source": [
    "per : Union[int, float] = int(input(\"Enter your percentage : \\t\"))\n",
    "grade : Union[str, None] = None\n",
    "\n",
    "if per >= 0 and per < 33:\n",
    "    grade = \"Fail\"\n",
    "elif per >= 33 and per < 40:\n",
    "    grade = \"E\"\n",
    "elif per >= 40  and per < 50:\n",
    "    grade = \"D\"\n",
    "elif per >= 50 and per < 60:\n",
    "    grade = \"C\"\n",
    "elif per >= 60 and per < 70:\n",
    "    grade = \"B\"\n",
    "elif per >= 70 and per < 80:\n",
    "    grade = \"A\"\n",
    "else:\n",
    "    grade = \"A+\"\n",
    "\n",
    "print (f\"Dear Student Your percentage is (per)  now your calculated grade is : \\t {grade}\")"
   ]
  },
  {
   "cell_type": "markdown",
   "metadata": {},
   "source": [
    "Student percentage"
   ]
  },
  {
   "cell_type": "code",
   "execution_count": 14,
   "metadata": {},
   "outputs": [
    {
     "name": "stdout",
     "output_type": "stream",
     "text": [
      "['A+', 'A', 'B', 'C', 'D', 'E', 'Fail', 'Fail', 'Fail', 'A+']\n",
      "[88, 78, 68, 58, 48, 38, 28, 18, 8, 91.5]\n"
     ]
    }
   ],
   "source": [
    "PerType = Union[int, float]\n",
    "\n",
    "percentages : list[PerType] = [88, 78, 68, 58, 48, 38, 28, 18, 8, 91.5 ]\n",
    "\n",
    "grades : list[str] = []\n",
    "\n",
    "for per in percentages:\n",
    "    grade : str = \"\"\n",
    "\n",
    "    if per >= 0 and per < 33:\n",
    "        grade = \"Fail\"\n",
    "    elif per >= 33 and per < 40:\n",
    "        grade = \"E\"\n",
    "    elif per >= 40  and per < 50:\n",
    "        grade = \"D\"\n",
    "    elif per >= 50 and per < 60:\n",
    "        grade = \"C\"\n",
    "    elif per >= 60 and per < 70:\n",
    "        grade = \"B\"\n",
    "    elif per >= 70 and per < 80:\n",
    "        grade = \"A\"\n",
    "    else:\n",
    "        grade = \"A+\"\n",
    "\n",
    "    grades.append(grade)\n",
    "\n",
    "print(grades)\n",
    "print(percentages)\n",
    "\n",
    "\n",
    "    "
   ]
  },
  {
   "cell_type": "code",
   "execution_count": 20,
   "metadata": {},
   "outputs": [
    {
     "data": {
      "text/plain": [
       "range(0, 10)"
      ]
     },
     "execution_count": 20,
     "metadata": {},
     "output_type": "execute_result"
    }
   ],
   "source": [
    "(range(len(percentages)))"
   ]
  },
  {
   "cell_type": "code",
   "execution_count": 27,
   "metadata": {},
   "outputs": [
    {
     "data": {
      "text/plain": [
       "[0, 1, 2, 3, 4, 5, 6, 7, 8, 9]"
      ]
     },
     "execution_count": 27,
     "metadata": {},
     "output_type": "execute_result"
    }
   ],
   "source": [
    "roll_no: list[int] = list(range(len(percentages)))\n",
    "roll_no"
   ]
  },
  {
   "cell_type": "code",
   "execution_count": 23,
   "metadata": {},
   "outputs": [
    {
     "data": {
      "text/plain": [
       "[('A+', 88),\n",
       " ('A', 78),\n",
       " ('B', 68),\n",
       " ('C', 58),\n",
       " ('D', 48),\n",
       " ('E', 38),\n",
       " ('Fail', 28),\n",
       " ('Fail', 18),\n",
       " ('Fail', 8),\n",
       " ('A+', 91.5)]"
      ]
     },
     "execution_count": 23,
     "metadata": {},
     "output_type": "execute_result"
    }
   ],
   "source": [
    "list(zip(grades, percentages))\n"
   ]
  },
  {
   "cell_type": "code",
   "execution_count": 29,
   "metadata": {},
   "outputs": [
    {
     "data": {
      "text/plain": [
       "[(0, 'A+', 88),\n",
       " (1, 'A', 78),\n",
       " (2, 'B', 68),\n",
       " (3, 'C', 58),\n",
       " (4, 'D', 48),\n",
       " (5, 'E', 38),\n",
       " (6, 'Fail', 28),\n",
       " (7, 'Fail', 18),\n",
       " (8, 'Fail', 8),\n",
       " (9, 'A+', 91.5)]"
      ]
     },
     "execution_count": 29,
     "metadata": {},
     "output_type": "execute_result"
    }
   ],
   "source": [
    "data_base = list(zip(roll_no, grades, percentages))\n",
    "data_base"
   ]
  },
  {
   "cell_type": "code",
   "execution_count": 30,
   "metadata": {},
   "outputs": [
    {
     "data": {
      "text/plain": [
       "[(0, 'A+', 88),\n",
       " (1, 'A', 78),\n",
       " (2, 'B', 68),\n",
       " (3, 'C', 58),\n",
       " (4, 'D', 48),\n",
       " (5, 'E', 38),\n",
       " (6, 'Fail', 28),\n",
       " (7, 'Fail', 18),\n",
       " (8, 'Fail', 8),\n",
       " (9, 'A+', 91.5)]"
      ]
     },
     "metadata": {},
     "output_type": "display_data"
    }
   ],
   "source": [
    "display(data_base)"
   ]
  },
  {
   "cell_type": "code",
   "execution_count": 31,
   "metadata": {},
   "outputs": [
    {
     "data": {
      "text/plain": [
       "[(0, 'A+', 88),\n",
       " (1, 'A', 78),\n",
       " (2, 'B', 68),\n",
       " (3, 'C', 58),\n",
       " (4, 'D', 48),\n",
       " (5, 'E', 38),\n",
       " (6, 'Fail', 28),\n",
       " (7, 'Fail', 18),\n",
       " (8, 'Fail', 8),\n",
       " (9, 'A+', 91.5)]"
      ]
     },
     "execution_count": 31,
     "metadata": {},
     "output_type": "execute_result"
    }
   ],
   "source": [
    "# display(data_base)\n",
    "sorted(data_base)\n"
   ]
  },
  {
   "cell_type": "code",
   "execution_count": 33,
   "metadata": {},
   "outputs": [
    {
     "data": {
      "text/plain": [
       "[(8, 'Fail', 8),\n",
       " (7, 'Fail', 18),\n",
       " (6, 'Fail', 28),\n",
       " (5, 'E', 38),\n",
       " (4, 'D', 48),\n",
       " (3, 'C', 58),\n",
       " (2, 'B', 68),\n",
       " (1, 'A', 78),\n",
       " (0, 'A+', 88),\n",
       " (9, 'A+', 91.5)]"
      ]
     },
     "execution_count": 33,
     "metadata": {},
     "output_type": "execute_result"
    }
   ],
   "source": [
    "sorted(data_base, key=lambda x:x[2])"
   ]
  },
  {
   "cell_type": "code",
   "execution_count": 35,
   "metadata": {},
   "outputs": [
    {
     "data": {
      "text/plain": [
       "[(9, 'A+', 91.5),\n",
       " (0, 'A+', 88),\n",
       " (1, 'A', 78),\n",
       " (2, 'B', 68),\n",
       " (3, 'C', 58),\n",
       " (4, 'D', 48),\n",
       " (5, 'E', 38),\n",
       " (6, 'Fail', 28),\n",
       " (7, 'Fail', 18),\n",
       " (8, 'Fail', 8)]"
      ]
     },
     "execution_count": 35,
     "metadata": {},
     "output_type": "execute_result"
    }
   ],
   "source": [
    "sorted(data_base, key=lambda x:x[2], reverse=True)"
   ]
  }
 ],
 "metadata": {
  "kernelspec": {
   "display_name": "pyAwais12",
   "language": "python",
   "name": "python3"
  },
  "language_info": {
   "codemirror_mode": {
    "name": "ipython",
    "version": 3
   },
   "file_extension": ".py",
   "mimetype": "text/x-python",
   "name": "python",
   "nbconvert_exporter": "python",
   "pygments_lexer": "ipython3",
   "version": "3.12.0"
  }
 },
 "nbformat": 4,
 "nbformat_minor": 2
}
